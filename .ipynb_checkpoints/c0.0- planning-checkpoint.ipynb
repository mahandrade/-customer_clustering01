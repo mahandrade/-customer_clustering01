{
 "cells": [
  {
   "cell_type": "code",
   "execution_count": null,
   "metadata": {
    "ExecuteTime": {
     "end_time": "2022-02-07T04:05:20.306700Z",
     "start_time": "2022-02-07T04:05:20.303213Z"
    }
   },
   "outputs": [],
   "source": [
    "import pandas as pd\n",
    "import numpy as np\n"
   ]
  },
  {
   "cell_type": "markdown",
   "metadata": {
    "ExecuteTime": {
     "end_time": "2022-02-07T12:53:24.629168Z",
     "start_time": "2022-02-07T12:53:24.622757Z"
    }
   },
   "source": [
    "# <font color= 'blue'> Project: High Value Customer Identification (Insiders)</font>\n",
    "\n",
    "## Business Challange\n",
    "\n",
    "A loyalty program of customers to increase sales frquency.\n",
    "\n",
    "## Business Planning (IOT)\n",
    "\n",
    "### Input \n",
    "    1. Business Problem\n",
    "        - Select the most valuable customers to join a loyalty program.\n",
    "    \n",
    "    2. Dataset\n",
    "        - One year e-commerce sales.\n",
    "        Invoice No: Invoice number (A 6-digit integral number uniquely assigned to each transaction)\n",
    "\n",
    "        Stock Code: Product (item) code\n",
    "\n",
    "        Description: Product (item) name\n",
    "\n",
    "        Quantity: The quantities of each product (item) per transaction\n",
    "\n",
    "        Invoice Date: The day when each transaction was generated\n",
    "\n",
    "        Unit Price: Unit price (Product price per unit)\n",
    "\n",
    "        Customer ID: Customer number (Unique ID assigned to each customer)\n",
    "\n",
    "        Country: Country name (The name of the country where each customer resides)\n",
    "    \n",
    "### Output\n",
    "    1. Indicate customers who will be part of a loyalty program called Insiders.\n",
    "            - List: client_id | is_insider\n",
    "                        10323 |   yes\n",
    "                        32413 |   no\n",
    "    2. A report with the answers for the business questions.\n",
    "    - Who are the customers eligible to join the program?\n",
    "    - How many customers will be part os this group?\n",
    "    - What are the main characteristics of these customers?\n",
    "    - What is the contribution percentage revenue from Insiders?\n",
    "    - What is the group's revenue expectation for the coming months?\n",
    "    - What are the condictions for select customers to join Insiders?\n",
    "    - What are the condictions for removing Insiders customers?\n",
    "    - What is the guarantee that the Insiders program is better than the rest of the base?\n",
    "    - What actions can the marketing team take to increase revenue?\n",
    "    \n",
    "### Taks\n",
    "    1. Who are the customers eligible to join the program?\n",
    "        - What does it mean, to be elegible? What does high-value customers mean?\n",
    "             - Revenue: ticket, bascket size, high LTV (Lifetime Value), churn probability,high TVC prevision, purchasing propensity.\n",
    "             - Cost: lower return rate.\n",
    "             - Purchase experience: high average evaluation rate.\n",
    "     \n",
    "    2. How many customers will be part os this group?\n",
    "        - Total nambers of customers.\n",
    "        - % Insiders group.\n",
    "        \n",
    "    3. What are the main characteristics of these customers?\n",
    "        - Age\n",
    "        - Location\n",
    "        - Others characteristics.\n",
    "        - Ticket, bascket size, high LTV, churn probability,high TVC prevision, purchasing propensity.\n",
    "        \n",
    "    4. What is the contribution percentage revenue from Insiders?\n",
    "         - Total revenue for the year.\n",
    "         - Insiders group revenue.\n",
    "         \n",
    "    5. What is the group's revenue expectation for the coming months?\n",
    "        - LTV Insisders group.\n",
    "        - Cohort analysis.\n",
    "        \n",
    "    6. What are the condictions for select customers to join Insiders?\n",
    "        - Define the periodicity\n",
    "        - The person needs to have similar characteristics with someone in the group.\n",
    "    \n",
    "    7. What are the condictions for removing Insiders customers?\n",
    "        - Define the periodicity\n",
    "        - The person doen't need to have similar characteristics with someone in the group.\n",
    "        \n",
    "    8. What is the guarantee that the Insiders program is better than the rest of the base?\n",
    "        - A/B test\n",
    "        - A/B bayesian test\n",
    "        - Hypothesis test\n",
    "        \n",
    "    9. What actions can the marketing team take to increase revenue?\n",
    "        - Discont\n",
    "        - Purchase preference\n",
    "        - Purchase shipping\n",
    "        - Company visit  \n",
    "        \n",
    "## Benchmark Solutions\n",
    "\n",
    "###  Desk Research\n",
    " - RFM model (recency, frequency,, monetary): sorted data to have a RFM Score.\n",
    " - example project: https://guillaume-martin.github.io/rfm-segmentation-with-python.html"
   ]
  },
  {
   "cell_type": "code",
   "execution_count": null,
   "metadata": {},
   "outputs": [],
   "source": []
  }
 ],
 "metadata": {
  "kernelspec": {
   "display_name": "Python 3 (ipykernel)",
   "language": "python",
   "name": "python3"
  },
  "language_info": {
   "codemirror_mode": {
    "name": "ipython",
    "version": 3
   },
   "file_extension": ".py",
   "mimetype": "text/x-python",
   "name": "python",
   "nbconvert_exporter": "python",
   "pygments_lexer": "ipython3",
   "version": "3.10.6"
  },
  "nbTranslate": {
   "displayLangs": [
    "*"
   ],
   "hotkey": "alt-t",
   "langInMainMenu": true,
   "sourceLang": "en",
   "targetLang": "fr",
   "useGoogleTranslate": true
  }
 },
 "nbformat": 4,
 "nbformat_minor": 4
}
